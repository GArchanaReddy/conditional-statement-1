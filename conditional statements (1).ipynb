{
 "cells": [
  {
   "cell_type": "markdown",
   "id": "1c81dcd5",
   "metadata": {},
   "source": [
    "# 1. Write a Python program that asks the user for their age and prints \"You are an adult\" if the age is 18 or older, otherwise prints \"You are a minor'\n"
   ]
  },
  {
   "cell_type": "code",
   "execution_count": 1,
   "id": "fe1b2475",
   "metadata": {},
   "outputs": [
    {
     "name": "stdout",
     "output_type": "stream",
     "text": [
      "enter a number:18\n",
      "you are an adult\n"
     ]
    }
   ],
   "source": [
    "\n",
    "age=int(input('enter a number:'))# we defined the variable\n",
    "if age in range(18,80):\n",
    "     print('you are an adult')#if the age is from 18-80\n",
    "else:\n",
    "    print('you are an minor')#if the age below 18"
   ]
  },
  {
   "cell_type": "markdown",
   "id": "6978e8b1",
   "metadata": {},
   "source": [
    "# 2.Write a program that takes a numerical grade (out of 100) as input and prints the corresponding letter grade according to the following scale:\n",
    " 90-100: A\n",
    " 80-89: B\n",
    " 70-79: C\n",
    " 60-69: D\n",
    " Below 60: F\n"
   ]
  },
  {
   "cell_type": "code",
   "execution_count": 1,
   "id": "4c4f3d20",
   "metadata": {},
   "outputs": [
    {
     "name": "stdout",
     "output_type": "stream",
     "text": [
      "enter a marks50\n",
      "Grade F\n"
     ]
    }
   ],
   "source": [
    "marks=int(input('enter a marks'))#  we assign a variable\n",
    "if marks in range(90-100):\n",
    "    print('Grade A')# if the marks are from 90-100 then it prints grade A\n",
    "elif marks in range(80-90):\n",
    "    print('Grade B')# if the marks are from 80-90 then it prints grade B\n",
    "elif marks in range(70-80):\n",
    "    print('Grade C')# if the marks are from 70-80 thenn it prints grade C\n",
    "elif marks in range(60-70):\n",
    "    print('Grade D')#if the marks are from 60-70 then it prints Grade D\n",
    "else:\n",
    "    print('Grade F')# if the marks are below 60"
   ]
  },
  {
   "cell_type": "markdown",
   "id": "2bb58a11",
   "metadata": {},
   "source": [
    "# 3. Write a program that calculates the Body Mass Index (BMI) of a person. The user should input their weight in kilograms and height in meters. The program should then print whether the person is underweight, normal weight, overweight, or obese"
   ]
  },
  {
   "cell_type": "code",
   "execution_count": 2,
   "id": "d167c740",
   "metadata": {},
   "outputs": [
    {
     "name": "stdout",
     "output_type": "stream",
     "text": [
      "enter the weight in kilograms24\n",
      "enter the height in meters26\n",
      "obese\n"
     ]
    }
   ],
   "source": [
    "w=float(input('enter the weight in kilograms'))# enter the weight in kilogram\n",
    "h=float(input('enter the height in meters'))# enter the weight in meters\n",
    "BMI=w/h*2\n",
    "if BMI>18.5 :# greater than 18.5 then it is in under weight\n",
    "    print('under weight')\n",
    "elif 18.5<BMI<24.9 :\n",
    "    print('normal weight')\n",
    "elif 25<BMI<29.9 :\n",
    "    print('over weight')\n",
    "else:# if bmi is above 30\n",
    "    print('obese')\n"
   ]
  },
  {
   "cell_type": "markdown",
   "id": "61f931b9",
   "metadata": {},
   "source": [
    "# 4..Write a program that asks the user for three numbers and prints the maximum of the three."
   ]
  },
  {
   "cell_type": "code",
   "execution_count": 3,
   "id": "902e5631",
   "metadata": {},
   "outputs": [
    {
     "name": "stdout",
     "output_type": "stream",
     "text": [
      "enter a number value:78\n",
      "enter a number value:45\n",
      "enter a number value:89\n",
      "third number is max\n"
     ]
    }
   ],
   "source": [
    "\n",
    "num1=int(input('enter a number value:'))# geting max of three numbers\n",
    "num2=int(input('enter a number value:'))\n",
    "num3=int(input('enter a number value:'))\n",
    "max(num1,num2,num3)\n",
    "if num2<num1>num3:\n",
    "    print( 'first number is max')\n",
    "elif num1<num2>num3:\n",
    "    print('second number is max')\n",
    "elif num2<num3>num1:\n",
    "    print('third number is max')\n",
    "elif num1==num2==num3:\n",
    "     print('tie')\n",
    "else:\n",
    "    print('error')"
   ]
  },
  {
   "cell_type": "markdown",
   "id": "4ec0004e",
   "metadata": {},
   "source": [
    "# 5.. Write a program that asks the user for a temperature (in Celsius) and prints \"It's freezing\" if the temperature is below 0, \"It's cool\" if it's between 0 and 10, \"It's warm\" if it's between 10 and 20, and \"It's hot\" if it's above 20"
   ]
  },
  {
   "cell_type": "code",
   "execution_count": 4,
   "id": "db1bb367",
   "metadata": {},
   "outputs": [
    {
     "name": "stdout",
     "output_type": "stream",
     "text": [
      "enter the temperaturein celsius-2\n",
      "its freezing\n"
     ]
    }
   ],
   "source": [
    "temp=int(input('enter the temperaturein celsius'))# we assign temp in a variable\n",
    "if temp<0:\n",
    "    print('its freezing')# if the temperature below 0\n",
    "elif temp in range(0,10): \n",
    "         print('its warm')\n",
    "elif temp in range (10,20):# if the temperature below 10to 20\n",
    "         print('its warm')\n",
    "else:\n",
    "         print('its hot')#if the temperature is above 20\n",
    "         \n",
    "         "
   ]
  },
  {
   "cell_type": "markdown",
   "id": "671c2efc",
   "metadata": {},
   "source": [
    ".\n",
    "#  6.Write a program that asks the user for a number (1-7) and prints the corresponding day of the week "
   ]
  },
  {
   "cell_type": "code",
   "execution_count": 5,
   "id": "d3be1a05",
   "metadata": {},
   "outputs": [
    {
     "name": "stdout",
     "output_type": "stream",
     "text": [
      "enter a number:4\n",
      "thursday\n"
     ]
    }
   ],
   "source": [
    "day=int(input('enter a number:'))# day is a variable assigned\n",
    "if day==1:\n",
    "    print('monday')# if its 1 then it returns monday\n",
    "elif day==2:\n",
    "    print('tuesday')# if its 2 then it returns tuesday\n",
    "elif day==3:\n",
    "    print('wednesday')# if its 3 then it returns wednesday\n",
    "elif day==4:\n",
    "    print('thursday')# if its 4 then its returns thursday\n",
    "elif day==5:\n",
    "    print('friday')# if its 5 then its return friday\n",
    "elif day==6:\n",
    "    print('saturday')#if its 6 then its returns saturday\n",
    "else :\n",
    "    print('sunday')# the number is above 6 then the value returns sunday \n",
    "    \n",
    "   "
   ]
  },
  {
   "cell_type": "markdown",
   "id": "ce7b8c39",
   "metadata": {},
   "source": [
    "# 7..Write a program that asks the user for a number and prints \"In range\" if the number is between 10 and 20 (inclusive), and \"Out of range\" otherwise."
   ]
  },
  {
   "cell_type": "code",
   "execution_count": 6,
   "id": "0ed966be",
   "metadata": {},
   "outputs": [
    {
     "name": "stdout",
     "output_type": "stream",
     "text": [
      " enter a number:21\n",
      "out of range\n"
     ]
    }
   ],
   "source": [
    "num=int(input(' enter a number:'))# the assigned a variable num\n",
    "if num in range(10,21):\n",
    "    print('in range')# if the value lies between 10 to 20\n",
    "else:\n",
    "    print('out of range')# if the value above 20 and below 10\n",
    "    "
   ]
  },
  {
   "cell_type": "markdown",
   "id": "0ce99200",
   "metadata": {},
   "source": [
    "# 8.Write a program that asks the user for an integer and prints whether it's even or odd.¶"
   ]
  },
  {
   "cell_type": "code",
   "execution_count": 7,
   "id": "416d21ed",
   "metadata": {},
   "outputs": [
    {
     "name": "stdout",
     "output_type": "stream",
     "text": [
      "enter a number:5\n",
      "odd\n"
     ]
    }
   ],
   "source": [
    "num=int(input('enter a number:'))# variable is assigned \n",
    "if num%2==0:\n",
    "    print('even')# if the number is divisble by 2 then it returns even numbers\n",
    "else:\n",
    "    print('odd')# if the number is not divisibl by 2 then it returns odd numbers."
   ]
  },
  {
   "cell_type": "markdown",
   "id": "93e40aaf",
   "metadata": {},
   "source": [
    "# 9.Write a Python program to add 'ing' at the end of a given string (string length should be equal to or more than 3). If the given string already ends with 'ing' then add 'ly' instead.If the string length of the given string is less than 3, leave it unchanged"
   ]
  },
  {
   "cell_type": "code",
   "execution_count": 9,
   "id": "fac3398c",
   "metadata": {},
   "outputs": [
    {
     "name": "stdout",
     "output_type": "stream",
     "text": [
      "enter a string:str\n",
      "string\n"
     ]
    }
   ],
   "source": [
    "x=str(input('enter a string:'))# variable is assigned \n",
    "if len(x)>=3:\n",
    "    print(x+'ing')#if the word is of length 3\n",
    "elif x.endswith('ing'):\n",
    "    print(x+'ly')#if the word already ends with ing then it replace withh ly\n",
    "else:\n",
    "    print('leave it unchanged')\n",
    "    \n",
    "    "
   ]
  },
  {
   "cell_type": "markdown",
   "id": "a24867bb",
   "metadata": {},
   "source": [
    "## 10.Create rock-paper-scissors by using the if condition.\n"
   ]
  },
  {
   "cell_type": "code",
   "execution_count": 11,
   "id": "912dc10d",
   "metadata": {},
   "outputs": [
    {
     "name": "stdout",
     "output_type": "stream",
     "text": [
      "player-1:s\n",
      "player-2:p\n",
      "player 2 wins\n"
     ]
    }
   ],
   "source": [
    "a=input('player-1:').lower()# define the player 1 as a\n",
    "b=input('player-2:').lower()# define the player 2 as b \n",
    "if a=='p'and b=='s':\n",
    "    print('b wins')# if paper and scissor on inputs then b wins\n",
    "elif a=='r'and b=='p':\n",
    "   print('a wins')# if rocks and paper as inputs then a wins\n",
    "elif a=='s'and b=='r':\n",
    "    print('b wins')# if scissors and rocks on inputs then b wins\n",
    "elif a==b:\n",
    "    print('tie')# if the input are same then we get\n",
    "else:\n",
    "    print('player 2 wins')\n",
    "    \n"
   ]
  },
  {
   "cell_type": "markdown",
   "id": "f6b491be",
   "metadata": {},
   "source": [
    "# 11. calculator which asks for numbers and operator and return the answers,\n",
    "         Example\n",
    "Input: Type first number: 10\",\n",
    "Type any of this (+, -, *, /, %, **): ,*\n",
    "Assignment-2 ,\n",
    "Type second number: 19, Output:Answer is 190"
   ]
  },
  {
   "cell_type": "code",
   "execution_count": 14,
   "id": "de594a60",
   "metadata": {},
   "outputs": [
    {
     "name": "stdout",
     "output_type": "stream",
     "text": [
      "first value:10\n",
      "second value9\n",
      "type any of this(+,-,*,/,%)\n",
      "cal:%\n",
      "1\n"
     ]
    }
   ],
   "source": [
    "x=int(input('first value:'))# variable of x is assigned\n",
    "y=int(input('second value'))# variable of y is assigned\n",
    "print('type any of this(+,-,*,/,%)')#operatoras\n",
    "cal=input('cal:')\n",
    "if cal ==\"+\":\n",
    "    print(x+y)# sum of x and y\n",
    "elif    cal==\"-\":\n",
    "        print(x-y)# difference of x and y\n",
    "elif cal==\"*\":\n",
    "    print(x*y)# product of x and y\n",
    "elif cal==\"/\":\n",
    "    print(x/y)# div of x and y\n",
    "elif cal==\"%\":\n",
    "    print(x%y)# modulus of x and y\n",
    "    "
   ]
  },
  {
   "cell_type": "markdown",
   "id": "20dc8991",
   "metadata": {},
   "source": [
    "# 12.Manoj Kumar has family and friends. Help him remind them who is who. Given a string with a name, return the relation of that person to Manoj Kumar.,\n",
    "Person Relation,"
   ]
  },
  {
   "cell_type": "code",
   "execution_count": 15,
   "id": "68f63f55",
   "metadata": {},
   "outputs": [
    {
     "name": "stdout",
     "output_type": "stream",
     "text": [
      " enter a manoj relation:aruna\n",
      "mother\n"
     ]
    }
   ],
   "source": [
    "a=str(input(' enter a manoj relation:'))\n",
    "if a== \"aruna\":# assigning a name\n",
    "    print('mother')\n",
    "elif a==\"raju\" :#assigning a name\n",
    "    print('father')\n",
    "elif a==\"ammulu\":#assiging a name\n",
    "    print('sister')\n",
    "elif a==\"bunny\":# assigning a name\n",
    "    print('brother')\n",
    "else:\n",
    "    print('stranger')"
   ]
  },
  {
   "cell_type": "markdown",
   "id": "0d2f9478",
   "metadata": {},
   "source": [
    "# 13.write a python program that takes in a word and determines whether or not it is plural. A plural word is one that ends with “s”\n"
   ]
  },
  {
   "cell_type": "code",
   "execution_count": 1,
   "id": "1936333d",
   "metadata": {},
   "outputs": [
    {
     "name": "stdout",
     "output_type": "stream",
     "text": [
      "write the words:sss\n",
      "it is plural\n"
     ]
    }
   ],
   "source": [
    "word = str(input('write the words:'))# assigning a word\n",
    "if word.endswith('s'):\n",
    "    print('it is plural')#pural word\n",
    "else:# if the given word is not pural\n",
    "    print('not plural')"
   ]
  },
  {
   "cell_type": "markdown",
   "id": "e964e0e3",
   "metadata": {},
   "source": [
    "# 14..A company decided to give a bonus of 5% to employees if his/her year of service is more than 5 years.Ask user for their salary and year of service and print the net bonus amount."
   ]
  },
  {
   "cell_type": "code",
   "execution_count": 3,
   "id": "a1ebb783",
   "metadata": {},
   "outputs": [
    {
     "name": "stdout",
     "output_type": "stream",
     "text": [
      "enter a salary:200000\n",
      "enter years of service:2\n",
      "no bonus\n"
     ]
    }
   ],
   "source": [
    "salary = float(input('enter a salary:'))# getting user input for salary\n",
    "service = int(input('enter years of service:'))# check if the employee is eligiable\n",
    "if service >= 5:\n",
    "    bonus_percentage = 5\n",
    "    bonus = (bonus_percentage /100)*salary# calculate the bonus and salary\n",
    "    print(bonus)\n",
    "    print('congratulation')\n",
    "else:\n",
    "    print('no bonus')"
   ]
  },
  {
   "cell_type": "markdown",
   "id": "1c9f3ec4",
   "metadata": {},
   "source": [
    "#  15.Take values of length and breadth of a rectangle from the user and check if it is square or not."
   ]
  },
  {
   "cell_type": "code",
   "execution_count": 5,
   "id": "443cf08a",
   "metadata": {},
   "outputs": [
    {
     "name": "stdout",
     "output_type": "stream",
     "text": [
      "what is length:3\n",
      "what is breadth3\n",
      "its a square\n"
     ]
    }
   ],
   "source": [
    "length = float(input('what is length:'))#getting user input for length\n",
    "breadth = float(input('what is breadth'))#getting user input for breadth\n",
    "if length == breadth:\n",
    "    print('its a square')# check if its square or not\n",
    "else:\n",
    "    print('its is a rectangle')"
   ]
  },
  {
   "cell_type": "markdown",
   "id": "ae3c2925",
   "metadata": {},
   "source": [
    "#  16.Accept any city from the user and display the momentum of the city \n",
    "Hyderabad  : “charminar”\n",
    "“Delhi”         : “red fort\n",
    "“Agra           : Taj mahal\n",
    "If the city name is not given correctly, give him a warning message.\n"
   ]
  },
  {
   "cell_type": "code",
   "execution_count": 6,
   "id": "b36dfa20",
   "metadata": {},
   "outputs": [
    {
     "name": "stdout",
     "output_type": "stream",
     "text": [
      " enter a city:agra\n",
      "Taj mahal\n"
     ]
    }
   ],
   "source": [
    "city=str(input(' enter a city:'))# assigning the city names\n",
    "if city == \"delhi\":\n",
    "    print('red fort')\n",
    "elif city == 'agra':\n",
    "    print('Taj mahal')\n",
    "elif city == 'hyderabad':\n",
    "    print('charminar')\n",
    "else:#check if the city is in momentum or not\n",
    "    print('enter the correct place')"
   ]
  },
  {
   "cell_type": "markdown",
   "id": "143cd955",
   "metadata": {},
   "source": [
    "# 17 . Write a program to check whether a person is eligible for voting or not (voting age>=18)"
   ]
  },
  {
   "cell_type": "code",
   "execution_count": 7,
   "id": "23a99253",
   "metadata": {},
   "outputs": [
    {
     "name": "stdout",
     "output_type": "stream",
     "text": [
      "enter your age:65\n",
      "your are eligiable for voting\n"
     ]
    }
   ],
   "source": [
    "age=int(input('enter your age:'))#voting\n",
    "if age >=18:#if above 18\n",
    "    print('your are eligiable for voting')\n",
    "else:# if below 18\n",
    "    print('your are not eligiable for voting')\n",
    "    "
   ]
  },
  {
   "cell_type": "markdown",
   "id": "f3bd40e1",
   "metadata": {},
   "source": [
    "# 18.Accept three sides of the triangle and check whether the triangle is possible or not.(Triangle is possible only when the sum of any two sides is greater than 3 rd side).\n"
   ]
  },
  {
   "cell_type": "code",
   "execution_count": 8,
   "id": "1061a1bf",
   "metadata": {},
   "outputs": [
    {
     "name": "stdout",
     "output_type": "stream",
     "text": [
      "what is length of first side:12\n",
      "what is length of second side:12\n",
      "what is length of third side:30\n",
      "its triangle\n"
     ]
    }
   ],
   "source": [
    "a = float(input('what is length of first side:'))# using get user for  the three sides\n",
    "b = float(input('what is length of second side:'))\n",
    "c = float (input('what is length of third side:'))\n",
    "if a+ b > c:# if the triangle is possible\n",
    "    print('its rectangle')\n",
    "elif a+ c > b:\n",
    "    print('its triangle')\n",
    "elif b+c > a:\n",
    "    print('its square')\n",
    "else:\n",
    "    print('its not a triangle')\n",
    "    \n"
   ]
  },
  {
   "cell_type": "code",
   "execution_count": null,
   "id": "88258b2f",
   "metadata": {},
   "outputs": [],
   "source": []
  }
 ],
 "metadata": {
  "kernelspec": {
   "display_name": "Python 3 (ipykernel)",
   "language": "python",
   "name": "python3"
  },
  "language_info": {
   "codemirror_mode": {
    "name": "ipython",
    "version": 3
   },
   "file_extension": ".py",
   "mimetype": "text/x-python",
   "name": "python",
   "nbconvert_exporter": "python",
   "pygments_lexer": "ipython3",
   "version": "3.11.5"
  }
 },
 "nbformat": 4,
 "nbformat_minor": 5
}
